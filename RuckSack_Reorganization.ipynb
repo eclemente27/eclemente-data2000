{
  "nbformat": 4,
  "nbformat_minor": 0,
  "metadata": {
    "colab": {
      "provenance": [],
      "authorship_tag": "ABX9TyNLulTS/WQnedsXQcjLnIur",
      "include_colab_link": true
    },
    "kernelspec": {
      "name": "python3",
      "display_name": "Python 3"
    },
    "language_info": {
      "name": "python"
    }
  },
  "cells": [
    {
      "cell_type": "markdown",
      "metadata": {
        "id": "view-in-github",
        "colab_type": "text"
      },
      "source": [
        "<a href=\"https://colab.research.google.com/github/eclemente27/eclemente-data2000/blob/main/RuckSack_Reorganization.ipynb\" target=\"_parent\"><img src=\"https://colab.research.google.com/assets/colab-badge.svg\" alt=\"Open In Colab\"/></a>"
      ]
    },
    {
      "cell_type": "code",
      "execution_count": 4,
      "metadata": {
        "id": "g3tSqM372y7T"
      },
      "outputs": [],
      "source": [
        "\n",
        "with open('rucksack-input','r') as f:\n",
        "  data = f.readlines()\n",
        "\n",
        "data"
      ]
    },
    {
      "cell_type": "code",
      "source": [],
      "metadata": {
        "id": "kde0LfPFv_cU"
      },
      "execution_count": null,
      "outputs": []
    }
  ]
}