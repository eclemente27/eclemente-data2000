{
  "nbformat": 4,
  "nbformat_minor": 0,
  "metadata": {
    "colab": {
      "provenance": [],
      "authorship_tag": "ABX9TyMIqjLYgqsFr6erAxXHQsXk",
      "include_colab_link": true
    },
    "kernelspec": {
      "name": "python3",
      "display_name": "Python 3"
    },
    "language_info": {
      "name": "python"
    }
  },
  "cells": [
    {
      "cell_type": "markdown",
      "metadata": {
        "id": "view-in-github",
        "colab_type": "text"
      },
      "source": [
        "<a href=\"https://colab.research.google.com/github/eclemente27/eclemente-data2000/blob/main/Extra_Credit_Rope_Bridge.ipynb\" target=\"_parent\"><img src=\"https://colab.research.google.com/assets/colab-badge.svg\" alt=\"Open In Colab\"/></a>"
      ]
    },
    {
      "cell_type": "markdown",
      "source": [
        "**Part** **1** - imulate your complete hypothetical series of motions. How many positions does the tail of the rope visit at least once?"
      ],
      "metadata": {
        "id": "P5cpcYr0vuCY"
      }
    },
    {
      "cell_type": "code",
      "source": [
        "#inserting data into Colab to use in the code\n",
        "with open('rope-input','r') as f:\n",
        "  data = f.readlines()\n",
        "  data2 = f.readlines()"
      ],
      "metadata": {
        "id": "VPfzbvq6udZz"
      },
      "execution_count": 8,
      "outputs": []
    },
    {
      "cell_type": "code",
      "source": [
        "#simulates motion of rope on 5x5 grid\n",
        "\n",
        "def simulate_rope(motions):\n",
        "    grid = [['.' for _ in range(5)] for _ in range(5)]\n",
        "    head = (2, 2)\n",
        "    tail = (2, 2)\n",
        "    visited_positions = {(2, 2)}\n",
        "\n",
        "\n",
        "\n",
        "    for motion in motions:\n",
        "        direction, steps = motion[0], int(motion[1:])\n",
        "        #takes direction of rope (up, down, left right)\n",
        "\n",
        "        for _ in range(steps):\n",
        "            if direction == 'R': #if the previous conditions were not true, then try this condition for the following elif\n",
        "                head = (head[0], head[1] + 1)\n",
        "            elif direction == 'L':\n",
        "                head = (head[0], head[1] - 1)\n",
        "            elif direction == 'U':\n",
        "                head = (head[0] - 1, head[1])\n",
        "            elif direction == 'D':\n",
        "                head = (head[0] + 1, head[1])\n",
        "\n",
        "            # Check if head is adjacent to the tail\n",
        "            if (\n",
        "                abs(head[0] - tail[0]) <= 1\n",
        "                and abs(head[1] - tail[1]) <= 1\n",
        "                and (head[0] == tail[0] or head[1] == tail[1])\n",
        "            ):\n",
        "                tail = head\n",
        "            else:\n",
        "                tail = (tail[0] + (head[0] - tail[0]), tail[1] + (head[1] - tail[1]))\n",
        "\n",
        "            visited_positions.add(tail)\n",
        "\n",
        "    return visited_positions\n",
        "\n",
        "# Inputing the data from the problem into the simulate rope function\n",
        "result = simulate_rope(data)\n",
        "print(len(result))"
      ],
      "metadata": {
        "id": "196-g5lKvSjc",
        "outputId": "ea4883a5-08ef-46a1-b1bf-04714fee4d5c",
        "colab": {
          "base_uri": "https://localhost:8080/"
        }
      },
      "execution_count": 9,
      "outputs": [
        {
          "output_type": "stream",
          "name": "stdout",
          "text": [
            "7103\n"
          ]
        }
      ]
    },
    {
      "cell_type": "markdown",
      "source": [
        "**Part 2** - How many positions does the tail of the rope visit at least once?\n",
        "\n"
      ],
      "metadata": {
        "id": "Mr6FQW2UvrBn"
      }
    },
    {
      "cell_type": "code",
      "source": [
        "def simulate_large_rope(motions):\n",
        "    grid_size = 11  # 10 knots + 1 for the head\n",
        "    grid = [['.' for _ in range(grid_size)] for _ in range(grid_size)]\n",
        "    head = (5, 5)  # Initial position of the head\n",
        "    tail = (5, 5)  # Initial position of the tail\n",
        "    visited_positions = {(5, 5)}  # Starting position\n",
        "\n",
        "#takes direction of rope (up, down, left right)\n",
        "    for motion in motions:\n",
        "        direction, steps = motion[0], int(motion[1:])\n",
        "        for _ in range(steps):\n",
        "            if direction == 'R':\n",
        "                head = (head[0], head[1] + 1)\n",
        "            elif direction == 'L':\n",
        "                head = (head[0], head[1] - 1)\n",
        "            elif direction == 'U':\n",
        "                head = (head[0] - 1, head[1])\n",
        "            elif direction == 'D':\n",
        "                head = (head[0] + 1, head[1])\n",
        "\n",
        "            # Check if head is adjacent to the tail\n",
        "            if (\n",
        "                abs(head[0] - tail[0]) <= 1\n",
        "                and abs(head[1] - tail[1]) <= 1\n",
        "                and (head[0] == tail[0] or head[1] == tail[1])\n",
        "            ):\n",
        "                tail = head\n",
        "            else:\n",
        "                tail = (tail[0] + (head[0] - tail[0]), tail[1] + (head[1] - tail[1]))\n",
        "\n",
        "            visited_positions.add(tail)\n",
        "\n",
        "    return visited_positions\n",
        "\n",
        "# Example input\n",
        "result_large = simulate_large_rope(data2)\n",
        "print(len(result_large))"
      ],
      "metadata": {
        "id": "mZ2h5b9Aujqa",
        "outputId": "d3e723df-130a-4d76-fca0-7b71219478a3",
        "colab": {
          "base_uri": "https://localhost:8080/"
        }
      },
      "execution_count": 10,
      "outputs": [
        {
          "output_type": "stream",
          "name": "stdout",
          "text": [
            "1\n"
          ]
        }
      ]
    }
  ]
}